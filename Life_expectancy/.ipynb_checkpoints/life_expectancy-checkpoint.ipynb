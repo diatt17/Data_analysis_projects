{
 "cells": [
  {
   "cell_type": "markdown",
   "id": "1cad7115-cc34-4b4f-af35-6f8e4a7dac96",
   "metadata": {},
   "source": [
    "## Problem Definition \n",
    "\n",
    "Life expectancy differs significantly across countries, reflecting a complex interplay of various socioeconomic, environmental, and healthcare factors that influence how long people live. Understanding these factors and their impact on life expectancy is crucial for developing policies and interventions aimed at improving global health outcomes."
   ]
  },
  {
   "cell_type": "markdown",
   "id": "921f9b72-a0bf-47eb-8177-0679f17cf298",
   "metadata": {},
   "source": [
    "## Objective\n",
    "\n",
    "This project seeks to identify and analyze the key determinants of life expectancy, exploring how variables such as access to healthcare, education, and environmental conditions contribute to disparities in longevity across different regions."
   ]
  },
  {
   "cell_type": "markdown",
   "id": "d6622a69-8f2e-439f-ab1b-6a1a43901d63",
   "metadata": {},
   "source": [
    "## Research questions\n",
    "\n",
    "1. **Which country currently has the lowest life expectancy, and what factors contribute to this?**  \n",
    "\n",
    "2. **Which country has the highest life expectancy, and what are the underlying reasons for its longevity?**  \n",
    "\n",
    "3. **Is there a gender disparity in life expectancy? If so, how significant is the difference between men and women?**  \n",
    "   *(Easily solvable with gender-segregated life expectancy data, but still requires a bit more analysis.)*\n",
    "\n",
    "4. **Has life expectancy been increasing over time, and is this trend consistent across all countries?**  \n",
    "   *(Requires longitudinal data analysis across multiple countries, which adds some complexity.)*\n",
    "\n",
    "5. **What are the key factors influencing life expectancy across different countries?**  \n",
    "   *(This requires statistical analysis to identify and rank the most influential factors.)*\n",
    "\n",
    "6. **Is the observed gender gap in life expectancy consistent globally, or does it vary by region?**  \n",
    "   *(Hardest: This requires not only gender-based data but also regional comparison, which involves deeper cross-country and cross-region analysis.)*\n"
   ]
  },
  {
   "cell_type": "code",
   "execution_count": 4,
   "id": "da4b2058-760a-4c35-800b-7830d4b8e8de",
   "metadata": {},
   "outputs": [],
   "source": [
    "#import libraries \n",
    "import pandas as pd\n",
    "import numpy as np\n",
    "import seaborn as sns"
   ]
  },
  {
   "cell_type": "code",
   "execution_count": 17,
   "id": "8fb6d1d8-5cd8-4d50-9002-0643ca7ebfb8",
   "metadata": {},
   "outputs": [
    {
     "data": {
      "text/html": [
       "<div>\n",
       "<style scoped>\n",
       "    .dataframe tbody tr th:only-of-type {\n",
       "        vertical-align: middle;\n",
       "    }\n",
       "\n",
       "    .dataframe tbody tr th {\n",
       "        vertical-align: top;\n",
       "    }\n",
       "\n",
       "    .dataframe thead th {\n",
       "        text-align: right;\n",
       "    }\n",
       "</style>\n",
       "<table border=\"1\" class=\"dataframe\">\n",
       "  <thead>\n",
       "    <tr style=\"text-align: right;\">\n",
       "      <th></th>\n",
       "      <th>Country Name</th>\n",
       "      <th>Country Code</th>\n",
       "      <th>Region</th>\n",
       "      <th>IncomeGroup</th>\n",
       "      <th>Year</th>\n",
       "      <th>Life Expectancy World Bank</th>\n",
       "      <th>Prevelance of Undernourishment</th>\n",
       "      <th>CO2</th>\n",
       "      <th>Health Expenditure %</th>\n",
       "      <th>Education Expenditure %</th>\n",
       "      <th>Unemployment</th>\n",
       "      <th>Corruption</th>\n",
       "      <th>Sanitation</th>\n",
       "      <th>Injuries</th>\n",
       "      <th>Communicable</th>\n",
       "      <th>NonCommunicable</th>\n",
       "    </tr>\n",
       "  </thead>\n",
       "  <tbody>\n",
       "    <tr>\n",
       "      <th>0</th>\n",
       "      <td>Afghanistan</td>\n",
       "      <td>AFG</td>\n",
       "      <td>South Asia</td>\n",
       "      <td>Low income</td>\n",
       "      <td>2001</td>\n",
       "      <td>56.308</td>\n",
       "      <td>47.8</td>\n",
       "      <td>730.0</td>\n",
       "      <td>NaN</td>\n",
       "      <td>NaN</td>\n",
       "      <td>10.809000</td>\n",
       "      <td>NaN</td>\n",
       "      <td>NaN</td>\n",
       "      <td>2179727.10</td>\n",
       "      <td>9689193.70</td>\n",
       "      <td>5795426.38</td>\n",
       "    </tr>\n",
       "    <tr>\n",
       "      <th>1</th>\n",
       "      <td>Angola</td>\n",
       "      <td>AGO</td>\n",
       "      <td>Sub-Saharan Africa</td>\n",
       "      <td>Lower middle income</td>\n",
       "      <td>2001</td>\n",
       "      <td>47.059</td>\n",
       "      <td>67.5</td>\n",
       "      <td>15960.0</td>\n",
       "      <td>4.483516</td>\n",
       "      <td>NaN</td>\n",
       "      <td>4.004000</td>\n",
       "      <td>NaN</td>\n",
       "      <td>NaN</td>\n",
       "      <td>1392080.71</td>\n",
       "      <td>11190210.53</td>\n",
       "      <td>2663516.34</td>\n",
       "    </tr>\n",
       "    <tr>\n",
       "      <th>2</th>\n",
       "      <td>Albania</td>\n",
       "      <td>ALB</td>\n",
       "      <td>Europe &amp; Central Asia</td>\n",
       "      <td>Upper middle income</td>\n",
       "      <td>2001</td>\n",
       "      <td>74.288</td>\n",
       "      <td>4.9</td>\n",
       "      <td>3230.0</td>\n",
       "      <td>7.139524</td>\n",
       "      <td>3.4587</td>\n",
       "      <td>18.575001</td>\n",
       "      <td>NaN</td>\n",
       "      <td>40.520895</td>\n",
       "      <td>117081.67</td>\n",
       "      <td>140894.78</td>\n",
       "      <td>532324.75</td>\n",
       "    </tr>\n",
       "    <tr>\n",
       "      <th>3</th>\n",
       "      <td>Andorra</td>\n",
       "      <td>AND</td>\n",
       "      <td>Europe &amp; Central Asia</td>\n",
       "      <td>High income</td>\n",
       "      <td>2001</td>\n",
       "      <td>NaN</td>\n",
       "      <td>NaN</td>\n",
       "      <td>520.0</td>\n",
       "      <td>5.865939</td>\n",
       "      <td>NaN</td>\n",
       "      <td>NaN</td>\n",
       "      <td>NaN</td>\n",
       "      <td>21.788660</td>\n",
       "      <td>1697.99</td>\n",
       "      <td>695.56</td>\n",
       "      <td>13636.64</td>\n",
       "    </tr>\n",
       "    <tr>\n",
       "      <th>4</th>\n",
       "      <td>United Arab Emirates</td>\n",
       "      <td>ARE</td>\n",
       "      <td>Middle East &amp; North Africa</td>\n",
       "      <td>High income</td>\n",
       "      <td>2001</td>\n",
       "      <td>74.544</td>\n",
       "      <td>2.8</td>\n",
       "      <td>97200.0</td>\n",
       "      <td>2.484370</td>\n",
       "      <td>NaN</td>\n",
       "      <td>2.493000</td>\n",
       "      <td>NaN</td>\n",
       "      <td>NaN</td>\n",
       "      <td>144678.14</td>\n",
       "      <td>65271.91</td>\n",
       "      <td>481740.70</td>\n",
       "    </tr>\n",
       "  </tbody>\n",
       "</table>\n",
       "</div>"
      ],
      "text/plain": [
       "           Country Name Country Code                      Region  \\\n",
       "0           Afghanistan          AFG                  South Asia   \n",
       "1                Angola          AGO          Sub-Saharan Africa   \n",
       "2               Albania          ALB       Europe & Central Asia   \n",
       "3               Andorra          AND       Europe & Central Asia   \n",
       "4  United Arab Emirates          ARE  Middle East & North Africa   \n",
       "\n",
       "           IncomeGroup  Year  Life Expectancy World Bank  \\\n",
       "0           Low income  2001                      56.308   \n",
       "1  Lower middle income  2001                      47.059   \n",
       "2  Upper middle income  2001                      74.288   \n",
       "3          High income  2001                         NaN   \n",
       "4          High income  2001                      74.544   \n",
       "\n",
       "   Prevelance of Undernourishment      CO2  Health Expenditure %  \\\n",
       "0                            47.8    730.0                   NaN   \n",
       "1                            67.5  15960.0              4.483516   \n",
       "2                             4.9   3230.0              7.139524   \n",
       "3                             NaN    520.0              5.865939   \n",
       "4                             2.8  97200.0              2.484370   \n",
       "\n",
       "   Education Expenditure %  Unemployment  Corruption  Sanitation    Injuries  \\\n",
       "0                      NaN     10.809000         NaN         NaN  2179727.10   \n",
       "1                      NaN      4.004000         NaN         NaN  1392080.71   \n",
       "2                   3.4587     18.575001         NaN   40.520895   117081.67   \n",
       "3                      NaN           NaN         NaN   21.788660     1697.99   \n",
       "4                      NaN      2.493000         NaN         NaN   144678.14   \n",
       "\n",
       "   Communicable  NonCommunicable  \n",
       "0    9689193.70       5795426.38  \n",
       "1   11190210.53       2663516.34  \n",
       "2     140894.78        532324.75  \n",
       "3        695.56         13636.64  \n",
       "4      65271.91        481740.70  "
      ]
     },
     "execution_count": 17,
     "metadata": {},
     "output_type": "execute_result"
    }
   ],
   "source": [
    "data = pd.read_csv('life_expectancy.csv')\n",
    "data.head()"
   ]
  },
  {
   "cell_type": "markdown",
   "id": "c51ec53a-5b69-4f65-a084-e419863f1649",
   "metadata": {},
   "source": [
    "### Data cleaning "
   ]
  },
  {
   "cell_type": "code",
   "execution_count": 19,
   "id": "93b8ce5b-b720-48b6-90fd-131416952647",
   "metadata": {},
   "outputs": [
    {
     "name": "stdout",
     "output_type": "stream",
     "text": [
      "(3306, 16)\n"
     ]
    }
   ],
   "source": [
    "#rename columns \n",
    "data = data.rename(columns={'Life Expectancy World Bank':'Life_expectancy', 'Prevelance of Undernourishment': 'Undernourishment'})\n",
    "#check data shape \n",
    "print(data.shape)"
   ]
  },
  {
   "cell_type": "code",
   "execution_count": 20,
   "id": "4ff1c132-248f-4a99-8408-dead386aebd6",
   "metadata": {},
   "outputs": [
    {
     "data": {
      "text/plain": [
       "Country Name                  0\n",
       "Country Code                  0\n",
       "Region                        0\n",
       "IncomeGroup                   0\n",
       "Year                          0\n",
       "Life_expectancy             188\n",
       "Undernourishment            684\n",
       "CO2                         152\n",
       "Health Expenditure %        180\n",
       "Education Expenditure %    1090\n",
       "Unemployment                304\n",
       "Corruption                 2331\n",
       "Sanitation                 1247\n",
       "Injuries                      0\n",
       "Communicable                  0\n",
       "NonCommunicable               0\n",
       "dtype: int64"
      ]
     },
     "execution_count": 20,
     "metadata": {},
     "output_type": "execute_result"
    }
   ],
   "source": [
    "#check for missing values \n",
    "missing_values = data.isnull().sum()\n",
    "missing_values"
   ]
  },
  {
   "cell_type": "markdown",
   "id": "53bcf5bc-0685-4d82-8b05-f19219c816e6",
   "metadata": {},
   "source": [
    "### Handle missing values \n",
    "\n",
    "For life expectancy, we will fill the missing values with the mean life expectancy of its corresponding region. Similar for Undernourishment, CO2 level and the other values.\n",
    "\n",
    "We will drop the corruption column since there are only few values provided there it will not be of a great use. More than 70% of the values are missing."
   ]
  },
  {
   "cell_type": "code",
   "execution_count": 35,
   "id": "b10b0637-1af8-4f98-9bd2-cd0ece6ff9cf",
   "metadata": {},
   "outputs": [
    {
     "ename": "KeyError",
     "evalue": "\"['Corruption'] not found in axis\"",
     "output_type": "error",
     "traceback": [
      "\u001b[0;31m---------------------------------------------------------------------------\u001b[0m",
      "\u001b[0;31mKeyError\u001b[0m                                  Traceback (most recent call last)",
      "Cell \u001b[0;32mIn[35], line 9\u001b[0m\n\u001b[1;32m      6\u001b[0m \u001b[38;5;28;01mfor\u001b[39;00m column \u001b[38;5;129;01min\u001b[39;00m columns_with_missing_values:\n\u001b[1;32m      7\u001b[0m     data[column] \u001b[38;5;241m=\u001b[39m data\u001b[38;5;241m.\u001b[39mgroupby(\u001b[38;5;124m'\u001b[39m\u001b[38;5;124mRegion\u001b[39m\u001b[38;5;124m'\u001b[39m)[column]\u001b[38;5;241m.\u001b[39mtransform(\u001b[38;5;28;01mlambda\u001b[39;00m x: x\u001b[38;5;241m.\u001b[39mfillna(x\u001b[38;5;241m.\u001b[39mmean()))\n\u001b[0;32m----> 9\u001b[0m data \u001b[38;5;241m=\u001b[39m data\u001b[38;5;241m.\u001b[39mdrop(columns \u001b[38;5;241m=\u001b[39m [\u001b[38;5;124m'\u001b[39m\u001b[38;5;124mCorruption\u001b[39m\u001b[38;5;124m'\u001b[39m])\n\u001b[1;32m     11\u001b[0m \u001b[38;5;28mprint\u001b[39m(data\u001b[38;5;241m.\u001b[39misnull()\u001b[38;5;241m.\u001b[39msum())\n",
      "File \u001b[0;32m/opt/anaconda3/lib/python3.11/site-packages/pandas/util/_decorators.py:331\u001b[0m, in \u001b[0;36mdeprecate_nonkeyword_arguments.<locals>.decorate.<locals>.wrapper\u001b[0;34m(*args, **kwargs)\u001b[0m\n\u001b[1;32m    325\u001b[0m \u001b[38;5;28;01mif\u001b[39;00m \u001b[38;5;28mlen\u001b[39m(args) \u001b[38;5;241m>\u001b[39m num_allow_args:\n\u001b[1;32m    326\u001b[0m     warnings\u001b[38;5;241m.\u001b[39mwarn(\n\u001b[1;32m    327\u001b[0m         msg\u001b[38;5;241m.\u001b[39mformat(arguments\u001b[38;5;241m=\u001b[39m_format_argument_list(allow_args)),\n\u001b[1;32m    328\u001b[0m         \u001b[38;5;167;01mFutureWarning\u001b[39;00m,\n\u001b[1;32m    329\u001b[0m         stacklevel\u001b[38;5;241m=\u001b[39mfind_stack_level(),\n\u001b[1;32m    330\u001b[0m     )\n\u001b[0;32m--> 331\u001b[0m \u001b[38;5;28;01mreturn\u001b[39;00m func(\u001b[38;5;241m*\u001b[39margs, \u001b[38;5;241m*\u001b[39m\u001b[38;5;241m*\u001b[39mkwargs)\n",
      "File \u001b[0;32m/opt/anaconda3/lib/python3.11/site-packages/pandas/core/frame.py:5399\u001b[0m, in \u001b[0;36mDataFrame.drop\u001b[0;34m(self, labels, axis, index, columns, level, inplace, errors)\u001b[0m\n\u001b[1;32m   5251\u001b[0m \u001b[38;5;129m@deprecate_nonkeyword_arguments\u001b[39m(version\u001b[38;5;241m=\u001b[39m\u001b[38;5;28;01mNone\u001b[39;00m, allowed_args\u001b[38;5;241m=\u001b[39m[\u001b[38;5;124m\"\u001b[39m\u001b[38;5;124mself\u001b[39m\u001b[38;5;124m\"\u001b[39m, \u001b[38;5;124m\"\u001b[39m\u001b[38;5;124mlabels\u001b[39m\u001b[38;5;124m\"\u001b[39m])\n\u001b[1;32m   5252\u001b[0m \u001b[38;5;28;01mdef\u001b[39;00m \u001b[38;5;21mdrop\u001b[39m(  \u001b[38;5;66;03m# type: ignore[override]\u001b[39;00m\n\u001b[1;32m   5253\u001b[0m     \u001b[38;5;28mself\u001b[39m,\n\u001b[0;32m   (...)\u001b[0m\n\u001b[1;32m   5260\u001b[0m     errors: IgnoreRaise \u001b[38;5;241m=\u001b[39m \u001b[38;5;124m\"\u001b[39m\u001b[38;5;124mraise\u001b[39m\u001b[38;5;124m\"\u001b[39m,\n\u001b[1;32m   5261\u001b[0m ) \u001b[38;5;241m-\u001b[39m\u001b[38;5;241m>\u001b[39m DataFrame \u001b[38;5;241m|\u001b[39m \u001b[38;5;28;01mNone\u001b[39;00m:\n\u001b[1;32m   5262\u001b[0m \u001b[38;5;250m    \u001b[39m\u001b[38;5;124;03m\"\"\"\u001b[39;00m\n\u001b[1;32m   5263\u001b[0m \u001b[38;5;124;03m    Drop specified labels from rows or columns.\u001b[39;00m\n\u001b[1;32m   5264\u001b[0m \n\u001b[0;32m   (...)\u001b[0m\n\u001b[1;32m   5397\u001b[0m \u001b[38;5;124;03m            weight  1.0     0.8\u001b[39;00m\n\u001b[1;32m   5398\u001b[0m \u001b[38;5;124;03m    \"\"\"\u001b[39;00m\n\u001b[0;32m-> 5399\u001b[0m     \u001b[38;5;28;01mreturn\u001b[39;00m \u001b[38;5;28msuper\u001b[39m()\u001b[38;5;241m.\u001b[39mdrop(\n\u001b[1;32m   5400\u001b[0m         labels\u001b[38;5;241m=\u001b[39mlabels,\n\u001b[1;32m   5401\u001b[0m         axis\u001b[38;5;241m=\u001b[39maxis,\n\u001b[1;32m   5402\u001b[0m         index\u001b[38;5;241m=\u001b[39mindex,\n\u001b[1;32m   5403\u001b[0m         columns\u001b[38;5;241m=\u001b[39mcolumns,\n\u001b[1;32m   5404\u001b[0m         level\u001b[38;5;241m=\u001b[39mlevel,\n\u001b[1;32m   5405\u001b[0m         inplace\u001b[38;5;241m=\u001b[39minplace,\n\u001b[1;32m   5406\u001b[0m         errors\u001b[38;5;241m=\u001b[39merrors,\n\u001b[1;32m   5407\u001b[0m     )\n",
      "File \u001b[0;32m/opt/anaconda3/lib/python3.11/site-packages/pandas/util/_decorators.py:331\u001b[0m, in \u001b[0;36mdeprecate_nonkeyword_arguments.<locals>.decorate.<locals>.wrapper\u001b[0;34m(*args, **kwargs)\u001b[0m\n\u001b[1;32m    325\u001b[0m \u001b[38;5;28;01mif\u001b[39;00m \u001b[38;5;28mlen\u001b[39m(args) \u001b[38;5;241m>\u001b[39m num_allow_args:\n\u001b[1;32m    326\u001b[0m     warnings\u001b[38;5;241m.\u001b[39mwarn(\n\u001b[1;32m    327\u001b[0m         msg\u001b[38;5;241m.\u001b[39mformat(arguments\u001b[38;5;241m=\u001b[39m_format_argument_list(allow_args)),\n\u001b[1;32m    328\u001b[0m         \u001b[38;5;167;01mFutureWarning\u001b[39;00m,\n\u001b[1;32m    329\u001b[0m         stacklevel\u001b[38;5;241m=\u001b[39mfind_stack_level(),\n\u001b[1;32m    330\u001b[0m     )\n\u001b[0;32m--> 331\u001b[0m \u001b[38;5;28;01mreturn\u001b[39;00m func(\u001b[38;5;241m*\u001b[39margs, \u001b[38;5;241m*\u001b[39m\u001b[38;5;241m*\u001b[39mkwargs)\n",
      "File \u001b[0;32m/opt/anaconda3/lib/python3.11/site-packages/pandas/core/generic.py:4505\u001b[0m, in \u001b[0;36mNDFrame.drop\u001b[0;34m(self, labels, axis, index, columns, level, inplace, errors)\u001b[0m\n\u001b[1;32m   4503\u001b[0m \u001b[38;5;28;01mfor\u001b[39;00m axis, labels \u001b[38;5;129;01min\u001b[39;00m axes\u001b[38;5;241m.\u001b[39mitems():\n\u001b[1;32m   4504\u001b[0m     \u001b[38;5;28;01mif\u001b[39;00m labels \u001b[38;5;129;01mis\u001b[39;00m \u001b[38;5;129;01mnot\u001b[39;00m \u001b[38;5;28;01mNone\u001b[39;00m:\n\u001b[0;32m-> 4505\u001b[0m         obj \u001b[38;5;241m=\u001b[39m obj\u001b[38;5;241m.\u001b[39m_drop_axis(labels, axis, level\u001b[38;5;241m=\u001b[39mlevel, errors\u001b[38;5;241m=\u001b[39merrors)\n\u001b[1;32m   4507\u001b[0m \u001b[38;5;28;01mif\u001b[39;00m inplace:\n\u001b[1;32m   4508\u001b[0m     \u001b[38;5;28mself\u001b[39m\u001b[38;5;241m.\u001b[39m_update_inplace(obj)\n",
      "File \u001b[0;32m/opt/anaconda3/lib/python3.11/site-packages/pandas/core/generic.py:4546\u001b[0m, in \u001b[0;36mNDFrame._drop_axis\u001b[0;34m(self, labels, axis, level, errors, only_slice)\u001b[0m\n\u001b[1;32m   4544\u001b[0m         new_axis \u001b[38;5;241m=\u001b[39m axis\u001b[38;5;241m.\u001b[39mdrop(labels, level\u001b[38;5;241m=\u001b[39mlevel, errors\u001b[38;5;241m=\u001b[39merrors)\n\u001b[1;32m   4545\u001b[0m     \u001b[38;5;28;01melse\u001b[39;00m:\n\u001b[0;32m-> 4546\u001b[0m         new_axis \u001b[38;5;241m=\u001b[39m axis\u001b[38;5;241m.\u001b[39mdrop(labels, errors\u001b[38;5;241m=\u001b[39merrors)\n\u001b[1;32m   4547\u001b[0m     indexer \u001b[38;5;241m=\u001b[39m axis\u001b[38;5;241m.\u001b[39mget_indexer(new_axis)\n\u001b[1;32m   4549\u001b[0m \u001b[38;5;66;03m# Case for non-unique axis\u001b[39;00m\n\u001b[1;32m   4550\u001b[0m \u001b[38;5;28;01melse\u001b[39;00m:\n",
      "File \u001b[0;32m/opt/anaconda3/lib/python3.11/site-packages/pandas/core/indexes/base.py:6934\u001b[0m, in \u001b[0;36mIndex.drop\u001b[0;34m(self, labels, errors)\u001b[0m\n\u001b[1;32m   6932\u001b[0m \u001b[38;5;28;01mif\u001b[39;00m mask\u001b[38;5;241m.\u001b[39many():\n\u001b[1;32m   6933\u001b[0m     \u001b[38;5;28;01mif\u001b[39;00m errors \u001b[38;5;241m!=\u001b[39m \u001b[38;5;124m\"\u001b[39m\u001b[38;5;124mignore\u001b[39m\u001b[38;5;124m\"\u001b[39m:\n\u001b[0;32m-> 6934\u001b[0m         \u001b[38;5;28;01mraise\u001b[39;00m \u001b[38;5;167;01mKeyError\u001b[39;00m(\u001b[38;5;124mf\u001b[39m\u001b[38;5;124m\"\u001b[39m\u001b[38;5;132;01m{\u001b[39;00m\u001b[38;5;28mlist\u001b[39m(labels[mask])\u001b[38;5;132;01m}\u001b[39;00m\u001b[38;5;124m not found in axis\u001b[39m\u001b[38;5;124m\"\u001b[39m)\n\u001b[1;32m   6935\u001b[0m     indexer \u001b[38;5;241m=\u001b[39m indexer[\u001b[38;5;241m~\u001b[39mmask]\n\u001b[1;32m   6936\u001b[0m \u001b[38;5;28;01mreturn\u001b[39;00m \u001b[38;5;28mself\u001b[39m\u001b[38;5;241m.\u001b[39mdelete(indexer)\n",
      "\u001b[0;31mKeyError\u001b[0m: \"['Corruption'] not found in axis\""
     ]
    }
   ],
   "source": [
    "#select column with missing values \n",
    "columns_with_missing_values = ['Life_expectancy', 'Undernourishment', 'CO2', 'Health Expenditure %', \n",
    "                               'Education Expenditure %', 'Unemployment', 'Sanitation']\n",
    "\n",
    "#iterate through the column and fillna with the mean of the corresponding region \n",
    "for column in columns_with_missing_values:\n",
    "    data[column] = data.groupby('Region')[column].transform(lambda x: x.fillna(x.mean()))\n",
    "\n",
    "data = data.drop(columns = ['Corruption'])\n",
    "\n",
    "print(data.isnull().sum())\n"
   ]
  },
  {
   "cell_type": "code",
   "execution_count": null,
   "id": "01ec109d-0776-473d-bbb0-b6635745ea44",
   "metadata": {},
   "outputs": [],
   "source": []
  }
 ],
 "metadata": {
  "kernelspec": {
   "display_name": "Python 3 (ipykernel)",
   "language": "python",
   "name": "python3"
  },
  "language_info": {
   "codemirror_mode": {
    "name": "ipython",
    "version": 3
   },
   "file_extension": ".py",
   "mimetype": "text/x-python",
   "name": "python",
   "nbconvert_exporter": "python",
   "pygments_lexer": "ipython3",
   "version": "3.11.7"
  }
 },
 "nbformat": 4,
 "nbformat_minor": 5
}
